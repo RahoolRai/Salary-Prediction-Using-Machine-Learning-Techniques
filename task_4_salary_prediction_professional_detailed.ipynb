{
 "cells": [
  {
   "cell_type": "markdown",
   "id": "b25c4d96-5996-4873-8210-10d93b0b1c6a",
   "metadata": {},
   "source": [
    "# 💼 Salary Prediction Using Machine Learning Techniques\n",
    "\n",
    "## 📌 1. Introduction\n",
    "This project aims to **predict an individual's salary** based on their **years of professional experience** using various **machine learning regression techniques**.  \n",
    "It is developed as part of the **AI Internship Program at DIGIPEX Solutions** to demonstrate practical skills in data preprocessing, model building, evaluation, and deployment.\n",
    "\n",
    "---\n",
    "## 🎯 2. Project Goals\n",
    "- Develop a regression model to estimate salary from experience data.\n",
    "- Compare performance across multiple regression algorithms.\n",
    "- Deploy the model as an interactive **Streamlit** application hosted on **Render**.\n",
    "\n",
    "---\n",
    "## 📂 3. Dataset Description\n",
    "We utilize the `Salary_Data.csv` dataset, which includes:\n",
    "- **YearsExperience** 👨‍💻: Total years of professional work experience.\n",
    "- **Salary** 💵: Annual salary in USD.\n",
    "\n",
    "This dataset is ideal for regression tasks due to its simplicity and clear linear relationship.\n",
    "\n",
    "---\n",
    "## 🛠️ 4. Tools & Technologies\n",
    "- **Python** 🐍\n",
    "- **Pandas** & **NumPy** for data handling.\n",
    "- **Matplotlib** & **Seaborn** for data visualization.\n",
    "- **Scikit-learn** for model training and evaluation.\n",
    "- **Streamlit** for deployment.\n",
    "- **Render** for hosting.\n",
    "\n",
    "---\n",
    "## 🔄 5. Project Workflow\n",
    "1. **📊 Data Exploration & Preprocessing** – Load, inspect, and clean the dataset.\n",
    "2. **🧩 Feature Engineering** – Select relevant features and prepare them for modeling.\n",
    "3. **🤖 Model Building** – Train different regression algorithms such as:\n",
    "   - Linear Regression\n",
    "   - Decision Tree Regressor\n",
    "   - Random Forest Regressor\n",
    "4. **📈 Model Evaluation** – Assess models using performance metrics (MAE, MSE, RMSE, R²).\n",
    "5. **🌐 Deployment** – Create and host a Streamlit web application for real-time predictions.\n",
    "\n",
    "---\n",
    "## 📅 6. Expected Outcomes\n",
    "By the end of this project, we will have:\n",
    "- A well-trained regression model.\n",
    "- A web-based interface for salary prediction.\n",
    "- Insights into the relationship between experience and salary.\n",
    "\n"
   ]
  },
  {
   "cell_type": "markdown",
   "id": "28ed05ad-8782-4a7a-bde5-ec54979a3944",
   "metadata": {},
   "source": [
    "\n",
    "## Step 1: Data Exploration & Preprocessing — Explanation\n",
    " ### In this step, we aim to prepare the dataset for machine learning by doing the following:\n",
    "### Load the dataset using pandas to view and work with the data.\n",
    "\n",
    "### Check for missing values to ensure there are no incomplete rows or columns.\n",
    "\n",
    "### Identify and encode categorical features if present (like strings or object-type columns).\n",
    "\n",
    "### Scale numerical features like YearsExperience, which helps models perform better.\n",
    "\n",
    "### These steps ensure that our data is clean, consistent, and ready for training regression models in the next phase.\n",
    "\n"
   ]
  },
  {
   "cell_type": "markdown",
   "id": "5d1f894f-a09c-482a-a7f2-d24e2f2220a2",
   "metadata": {},
   "source": [
    "# 🧭 1.1 Load the Dataset"
   ]
  },
  {
   "cell_type": "code",
   "execution_count": 1,
   "id": "13036a72-29ca-482d-9e5c-cf3a874046b5",
   "metadata": {},
   "outputs": [
    {
     "data": {
      "text/html": [
       "<div>\n",
       "<style scoped>\n",
       "    .dataframe tbody tr th:only-of-type {\n",
       "        vertical-align: middle;\n",
       "    }\n",
       "\n",
       "    .dataframe tbody tr th {\n",
       "        vertical-align: top;\n",
       "    }\n",
       "\n",
       "    .dataframe thead th {\n",
       "        text-align: right;\n",
       "    }\n",
       "</style>\n",
       "<table border=\"1\" class=\"dataframe\">\n",
       "  <thead>\n",
       "    <tr style=\"text-align: right;\">\n",
       "      <th></th>\n",
       "      <th>YearsExperience</th>\n",
       "      <th>Salary</th>\n",
       "    </tr>\n",
       "  </thead>\n",
       "  <tbody>\n",
       "    <tr>\n",
       "      <th>0</th>\n",
       "      <td>1.1</td>\n",
       "      <td>39343.0</td>\n",
       "    </tr>\n",
       "    <tr>\n",
       "      <th>1</th>\n",
       "      <td>1.3</td>\n",
       "      <td>46205.0</td>\n",
       "    </tr>\n",
       "    <tr>\n",
       "      <th>2</th>\n",
       "      <td>1.5</td>\n",
       "      <td>37731.0</td>\n",
       "    </tr>\n",
       "    <tr>\n",
       "      <th>3</th>\n",
       "      <td>2.0</td>\n",
       "      <td>43525.0</td>\n",
       "    </tr>\n",
       "    <tr>\n",
       "      <th>4</th>\n",
       "      <td>2.2</td>\n",
       "      <td>39891.0</td>\n",
       "    </tr>\n",
       "    <tr>\n",
       "      <th>5</th>\n",
       "      <td>2.9</td>\n",
       "      <td>56642.0</td>\n",
       "    </tr>\n",
       "    <tr>\n",
       "      <th>6</th>\n",
       "      <td>3.0</td>\n",
       "      <td>60150.0</td>\n",
       "    </tr>\n",
       "    <tr>\n",
       "      <th>7</th>\n",
       "      <td>3.2</td>\n",
       "      <td>54445.0</td>\n",
       "    </tr>\n",
       "    <tr>\n",
       "      <th>8</th>\n",
       "      <td>3.2</td>\n",
       "      <td>64445.0</td>\n",
       "    </tr>\n",
       "    <tr>\n",
       "      <th>9</th>\n",
       "      <td>3.7</td>\n",
       "      <td>57189.0</td>\n",
       "    </tr>\n",
       "    <tr>\n",
       "      <th>10</th>\n",
       "      <td>3.9</td>\n",
       "      <td>63218.0</td>\n",
       "    </tr>\n",
       "    <tr>\n",
       "      <th>11</th>\n",
       "      <td>4.0</td>\n",
       "      <td>55794.0</td>\n",
       "    </tr>\n",
       "    <tr>\n",
       "      <th>12</th>\n",
       "      <td>4.0</td>\n",
       "      <td>56957.0</td>\n",
       "    </tr>\n",
       "    <tr>\n",
       "      <th>13</th>\n",
       "      <td>4.1</td>\n",
       "      <td>57081.0</td>\n",
       "    </tr>\n",
       "    <tr>\n",
       "      <th>14</th>\n",
       "      <td>4.5</td>\n",
       "      <td>61111.0</td>\n",
       "    </tr>\n",
       "    <tr>\n",
       "      <th>15</th>\n",
       "      <td>4.9</td>\n",
       "      <td>67938.0</td>\n",
       "    </tr>\n",
       "    <tr>\n",
       "      <th>16</th>\n",
       "      <td>5.1</td>\n",
       "      <td>66029.0</td>\n",
       "    </tr>\n",
       "    <tr>\n",
       "      <th>17</th>\n",
       "      <td>5.3</td>\n",
       "      <td>83088.0</td>\n",
       "    </tr>\n",
       "    <tr>\n",
       "      <th>18</th>\n",
       "      <td>5.9</td>\n",
       "      <td>81363.0</td>\n",
       "    </tr>\n",
       "    <tr>\n",
       "      <th>19</th>\n",
       "      <td>6.0</td>\n",
       "      <td>93940.0</td>\n",
       "    </tr>\n",
       "    <tr>\n",
       "      <th>20</th>\n",
       "      <td>6.8</td>\n",
       "      <td>91738.0</td>\n",
       "    </tr>\n",
       "    <tr>\n",
       "      <th>21</th>\n",
       "      <td>7.1</td>\n",
       "      <td>98273.0</td>\n",
       "    </tr>\n",
       "    <tr>\n",
       "      <th>22</th>\n",
       "      <td>7.9</td>\n",
       "      <td>101302.0</td>\n",
       "    </tr>\n",
       "    <tr>\n",
       "      <th>23</th>\n",
       "      <td>8.2</td>\n",
       "      <td>113812.0</td>\n",
       "    </tr>\n",
       "    <tr>\n",
       "      <th>24</th>\n",
       "      <td>8.7</td>\n",
       "      <td>109431.0</td>\n",
       "    </tr>\n",
       "    <tr>\n",
       "      <th>25</th>\n",
       "      <td>9.0</td>\n",
       "      <td>105582.0</td>\n",
       "    </tr>\n",
       "    <tr>\n",
       "      <th>26</th>\n",
       "      <td>9.5</td>\n",
       "      <td>116969.0</td>\n",
       "    </tr>\n",
       "    <tr>\n",
       "      <th>27</th>\n",
       "      <td>9.6</td>\n",
       "      <td>112635.0</td>\n",
       "    </tr>\n",
       "    <tr>\n",
       "      <th>28</th>\n",
       "      <td>10.3</td>\n",
       "      <td>122391.0</td>\n",
       "    </tr>\n",
       "    <tr>\n",
       "      <th>29</th>\n",
       "      <td>10.5</td>\n",
       "      <td>121872.0</td>\n",
       "    </tr>\n",
       "  </tbody>\n",
       "</table>\n",
       "</div>"
      ],
      "text/plain": [
       "    YearsExperience    Salary\n",
       "0               1.1   39343.0\n",
       "1               1.3   46205.0\n",
       "2               1.5   37731.0\n",
       "3               2.0   43525.0\n",
       "4               2.2   39891.0\n",
       "5               2.9   56642.0\n",
       "6               3.0   60150.0\n",
       "7               3.2   54445.0\n",
       "8               3.2   64445.0\n",
       "9               3.7   57189.0\n",
       "10              3.9   63218.0\n",
       "11              4.0   55794.0\n",
       "12              4.0   56957.0\n",
       "13              4.1   57081.0\n",
       "14              4.5   61111.0\n",
       "15              4.9   67938.0\n",
       "16              5.1   66029.0\n",
       "17              5.3   83088.0\n",
       "18              5.9   81363.0\n",
       "19              6.0   93940.0\n",
       "20              6.8   91738.0\n",
       "21              7.1   98273.0\n",
       "22              7.9  101302.0\n",
       "23              8.2  113812.0\n",
       "24              8.7  109431.0\n",
       "25              9.0  105582.0\n",
       "26              9.5  116969.0\n",
       "27              9.6  112635.0\n",
       "28             10.3  122391.0\n",
       "29             10.5  121872.0"
      ]
     },
     "execution_count": 1,
     "metadata": {},
     "output_type": "execute_result"
    }
   ],
   "source": [
    "import pandas as pd\n",
    "\n",
    "# Load the data\n",
    "df = pd.read_csv(r\"C:\\Users\\Rahool-Rai\\OneDrive\\Desktop\\Task-04\\Salary_Data.csv\")\n",
    "\n",
    "# View the Dataset\n",
    "df"
   ]
  },
  {
   "cell_type": "code",
   "execution_count": 2,
   "id": "74c80fb5-fa7f-4437-9490-f6a3e45b4381",
   "metadata": {},
   "outputs": [
    {
     "data": {
      "text/html": [
       "<div>\n",
       "<style scoped>\n",
       "    .dataframe tbody tr th:only-of-type {\n",
       "        vertical-align: middle;\n",
       "    }\n",
       "\n",
       "    .dataframe tbody tr th {\n",
       "        vertical-align: top;\n",
       "    }\n",
       "\n",
       "    .dataframe thead th {\n",
       "        text-align: right;\n",
       "    }\n",
       "</style>\n",
       "<table border=\"1\" class=\"dataframe\">\n",
       "  <thead>\n",
       "    <tr style=\"text-align: right;\">\n",
       "      <th></th>\n",
       "      <th>YearsExperience</th>\n",
       "      <th>Salary</th>\n",
       "    </tr>\n",
       "  </thead>\n",
       "  <tbody>\n",
       "    <tr>\n",
       "      <th>0</th>\n",
       "      <td>1.1</td>\n",
       "      <td>39343.0</td>\n",
       "    </tr>\n",
       "    <tr>\n",
       "      <th>1</th>\n",
       "      <td>1.3</td>\n",
       "      <td>46205.0</td>\n",
       "    </tr>\n",
       "    <tr>\n",
       "      <th>2</th>\n",
       "      <td>1.5</td>\n",
       "      <td>37731.0</td>\n",
       "    </tr>\n",
       "    <tr>\n",
       "      <th>3</th>\n",
       "      <td>2.0</td>\n",
       "      <td>43525.0</td>\n",
       "    </tr>\n",
       "    <tr>\n",
       "      <th>4</th>\n",
       "      <td>2.2</td>\n",
       "      <td>39891.0</td>\n",
       "    </tr>\n",
       "  </tbody>\n",
       "</table>\n",
       "</div>"
      ],
      "text/plain": [
       "   YearsExperience   Salary\n",
       "0              1.1  39343.0\n",
       "1              1.3  46205.0\n",
       "2              1.5  37731.0\n",
       "3              2.0  43525.0\n",
       "4              2.2  39891.0"
      ]
     },
     "execution_count": 2,
     "metadata": {},
     "output_type": "execute_result"
    }
   ],
   "source": [
    "# View the first few rows\n",
    "df.head()"
   ]
  },
  {
   "cell_type": "markdown",
   "id": "6e9a361a-327c-43ca-9e70-217c3b052d18",
   "metadata": {},
   "source": [
    "# 🔍 1.2 Handle Missing Values\n",
    "## Check if any values are missing:"
   ]
  },
  {
   "cell_type": "code",
   "execution_count": 3,
   "id": "34fe216b-7750-42ed-9561-bfb1d0f4d0ca",
   "metadata": {},
   "outputs": [
    {
     "data": {
      "text/plain": [
       "YearsExperience    0\n",
       "Salary             0\n",
       "dtype: int64"
      ]
     },
     "execution_count": 3,
     "metadata": {},
     "output_type": "execute_result"
    }
   ],
   "source": [
    "# Check for missing values\n",
    "df.isnull().sum()"
   ]
  },
  {
   "cell_type": "markdown",
   "id": "1915f68f-5554-4db3-9863-4a32b50ba473",
   "metadata": {},
   "source": [
    "# 🏷️ 1.3 Encode Categorical Features\n",
    "## Check which columns are object type:"
   ]
  },
  {
   "cell_type": "code",
   "execution_count": 4,
   "id": "76e75407-cfaa-4966-ba2e-8091183ad353",
   "metadata": {},
   "outputs": [
    {
     "name": "stdout",
     "output_type": "stream",
     "text": [
      "\n",
      "Data Types:\n",
      "YearsExperience    float64\n",
      "Salary             float64\n",
      "dtype: object\n"
     ]
    }
   ],
   "source": [
    "# Step 4: Check data types\n",
    "print(\"\\nData Types:\")\n",
    "print(df.dtypes)\n",
    "\n",
    "\n"
   ]
  },
  {
   "cell_type": "markdown",
   "id": "1589c9bc-ad75-4448-b854-a4c9a551a49e",
   "metadata": {},
   "source": [
    "# ⚖️ 1.4 Scale Numerical Values\n",
    "## Scale features (except target column \"Salary\"):"
   ]
  },
  {
   "cell_type": "code",
   "execution_count": 5,
   "id": "d623e5d1-433d-456f-ba4d-88a141e2d888",
   "metadata": {},
   "outputs": [],
   "source": [
    "from sklearn.preprocessing import StandardScaler\n",
    "\n",
    "# Define features and target\n",
    "X = df.drop(\"Salary\", axis=1)\n",
    "y = df[\"Salary\"]\n",
    "\n",
    "# Scale numeric features\n",
    "scaler = StandardScaler()\n",
    "X_scaled = scaler.fit_transform(X)\n"
   ]
  },
  {
   "cell_type": "markdown",
   "id": "c93e1908-4633-4b58-aaa1-382345c3d22a",
   "metadata": {},
   "source": [
    "## ✅ Conclusion of Step 1: Data Exploration & Preprocessing\n",
    "### We successfully completed the first phase of the project by preparing the data:\n",
    "\n",
    "### ✅ Loaded the dataset using Pandas\n",
    "\n",
    "### ✅ Verified there were no missing values\n",
    "\n",
    "### ✅ Found that all columns are numerical, so no encoding was required\n",
    "\n",
    "### ✅ Applied StandardScaler to scale the YearsExperience feature\n",
    "\n",
    "# The dataset is now clean and preprocessed, and we're ready to move to Feature Engineering in the next step.\n",
    "\n"
   ]
  },
  {
   "cell_type": "markdown",
   "id": "f956cf2f-35d4-43b1-b081-d88acc5451ba",
   "metadata": {},
   "source": [
    "# 🔹 STEP 2: FEATURE ENGINEERING"
   ]
  },
  {
   "cell_type": "markdown",
   "id": "287e7d2e-7007-4aed-9421-a831a7891705",
   "metadata": {},
   "source": [
    "## Step 2: Feature Engineering — Explanation\n",
    "### In this step, we analyze which features have the strongest impact on the target variable (Salary).\n",
    "### Since our dataset is small and only includes one independent variable — YearsExperience — we’ll:\n",
    "\n",
    "### Check correlation between YearsExperience and Salary\n",
    "\n",
    "### Visualize the relationship using a scatter plot\n",
    "\n",
    "### Decide if any new features (derived features) can help improve the model\n",
    "### (e.g., experience squared or log-transformed values)\n",
    "\n",
    "### The goal is to understand the strength of relationships and improve the input features if possible.\n",
    "\n"
   ]
  },
  {
   "cell_type": "code",
   "execution_count": 6,
   "id": "c2b3bd93-b147-432c-af4a-3707b8cf82e5",
   "metadata": {},
   "outputs": [
    {
     "name": "stdout",
     "output_type": "stream",
     "text": [
      "🔍 Correlation Matrix:\n",
      "                  YearsExperience    Salary\n",
      "YearsExperience         1.000000  0.978242\n",
      "Salary                  0.978242  1.000000\n"
     ]
    }
   ],
   "source": [
    "import matplotlib.pyplot as plt\n",
    "import seaborn as sns\n",
    "\n",
    "# Step 1: Correlation matrix\n",
    "correlation = df.corr()\n",
    "print(\"🔍 Correlation Matrix:\\n\", correlation)\n"
   ]
  },
  {
   "cell_type": "code",
   "execution_count": 7,
   "id": "841ac630-de97-4f16-ade4-7b437fa1782a",
   "metadata": {},
   "outputs": [
    {
     "data": {
      "image/png": "[encoded data removed]",
      "text/plain": [
       "<Figure size 500x400 with 2 Axes>"
      ]
     },
     "metadata": {},
     "output_type": "display_data"
    }
   ],
   "source": [
    "# Step 2: Visualize correlation heatmap\n",
    "plt.figure(figsize=(5, 4))\n",
    "sns.heatmap(correlation, annot=True, cmap='Blues')\n",
    "plt.title(\"Feature Correlation with Salary\")\n",
    "plt.show()\n"
   ]
  },
  {
   "cell_type": "code",
   "execution_count": 8,
   "id": "4dfe1d43-c08b-420e-b7be-89ab1b246b46",
   "metadata": {},
   "outputs": [
    {
     "data": {
      "image/png": "[encoded data removed]",
      "text/plain": [
       "<Figure size 600x500 with 1 Axes>"
      ]
     },
     "metadata": {},
     "output_type": "display_data"
    }
   ],
   "source": [
    "# Step 3: Scatter plot between YearsExperience and Salary\n",
    "plt.figure(figsize=(6, 5))\n",
    "sns.scatterplot(data=df, x='YearsExperience', y='Salary')\n",
    "plt.title(\"Years of Experience vs Salary\")\n",
    "plt.xlabel(\"Years of Experience\")\n",
    "plt.ylabel(\"Salary\")\n",
    "plt.show()"
   ]
  },
  {
   "cell_type": "markdown",
   "id": "acba6c52-44e6-4e84-843b-7e4b5f705031",
   "metadata": {},
   "source": [
    "### ✅ Conclusion of Step 2: Feature Engineering\n",
    "\n",
    "- We explored the relationship between `YearsExperience` and `Salary`.\n",
    "- The **scatter plot** showed a clear **positive linear trend**.\n",
    "- The **correlation matrix** revealed a **strong positive correlation (0.978)** between `YearsExperience` and `Salary`.\n",
    "- ### 🔥 Heatmap Analysis\n",
    "\n",
    "The correlation heatmap shows a **very strong positive correlation (0.98)** between `YearsExperience` and `Salary`. \n",
    "\n",
    "This indicates that:\n",
    "- As experience increases, salary tends to increase in a predictable way.\n",
    "- A simple regression model can capture this trend accurately.\n",
    "\n",
    "Therefore, no additional derived features are necessary, and we can move forward to model training with confidence.\n",
    "\n"
   ]
  },
  {
   "cell_type": "markdown",
   "id": "1901bdf1-b171-43e5-8d35-5ee02e01edcf",
   "metadata": {},
   "source": [
    "# 🧠 Step 3: Model Building\n",
    "## 🧠 Step 3: Model Building — Explanation\n",
    "\n",
    "## In this step, we train different regression models to predict `Salary` based on `YearsExperience`.\n",
    "\n",
    "### We'll use the following algorithms:\n",
    "### 1. **Linear Regression** – a simple model suitable for linear relationships\n",
    "### 2. **Random Forest Regressor** – a powerful ensemble model\n",
    "###  3. **XGBoost Regressor** – a gradient boosting model optimized for performance\n",
    "\n",
    "###  Each model will be trained using the scaled feature(s) and evaluated in the next step.\n"
   ]
  },
  {
   "cell_type": "code",
   "execution_count": 9,
   "id": "58dd4ac8-1cc2-42f0-bb05-3e65353c2a5c",
   "metadata": {},
   "outputs": [
    {
     "name": "stdout",
     "output_type": "stream",
     "text": [
      "Collecting xgboost\n",
      "  Downloading xgboost-3.0.3-py3-none-win_amd64.whl (149.9 MB)\n",
      "Requirement already satisfied: numpy in c:\\users\\rahool-rai\\appdata\\roaming\\python\\python310\\site-packages (from xgboost) (2.2.6)\n",
      "Requirement already satisfied: scipy in c:\\users\\rahool-rai\\appdata\\roaming\\python\\python310\\site-packages (from xgboost) (1.15.3)\n",
      "Installing collected packages: xgboost\n",
      "Successfully installed xgboost-3.0.3\n",
      "Note: you may need to restart the kernel to use updated packages.\n"
     ]
    },
    {
     "name": "stderr",
     "output_type": "stream",
     "text": [
      "WARNING: You are using pip version 21.2.3; however, version 25.2 is available.\n",
      "You should consider upgrading via the 'c:\\Program Files\\Python310\\python.exe -m pip install --upgrade pip' command.\n"
     ]
    }
   ],
   "source": [
    "pip install xgboost --user\n"
   ]
  },
  {
   "cell_type": "code",
   "execution_count": 10,
   "id": "3179b87d-2b1d-4302-a0db-ccaecf1e53a3",
   "metadata": {},
   "outputs": [
    {
     "name": "stdout",
     "output_type": "stream",
     "text": [
      "Defaulting to user installation because normal site-packages is not writeable"
     ]
    },
    {
     "name": "stderr",
     "output_type": "stream",
     "text": [
      "WARNING: You are using pip version 21.2.3; however, version 25.2 is available.\n",
      "You should consider upgrading via the 'C:\\Program Files\\Python310\\python.exe -m pip install --upgrade pip' command.\n"
     ]
    },
    {
     "name": "stdout",
     "output_type": "stream",
     "text": [
      "\n",
      "Requirement already satisfied: xgboost in c:\\users\\rahool-rai\\appdata\\roaming\\python\\python310\\site-packages (3.0.3)\n",
      "Requirement already satisfied: scipy in c:\\users\\rahool-rai\\appdata\\roaming\\python\\python310\\site-packages (from xgboost) (1.15.3)\n",
      "Requirement already satisfied: numpy in c:\\users\\rahool-rai\\appdata\\roaming\\python\\python310\\site-packages (from xgboost) (2.2.6)\n"
     ]
    }
   ],
   "source": [
    "!pip install xgboost\n",
    "\n"
   ]
  },
  {
   "cell_type": "code",
   "execution_count": 11,
   "id": "db6d7fa6-435f-4319-8b22-9710ae2f6c9d",
   "metadata": {},
   "outputs": [
    {
     "name": "stdout",
     "output_type": "stream",
     "text": [
      "✅ Linear Regression trained successfully\n",
      "✅ Random Forest trained successfully\n",
      "✅ XGBoost trained successfully\n"
     ]
    }
   ],
   "source": [
    "from sklearn.linear_model import LinearRegression\n",
    "from sklearn.ensemble import RandomForestRegressor\n",
    "from xgboost import XGBRegressor\n",
    "\n",
    "# Prepare training and testing data\n",
    "from sklearn.model_selection import train_test_split\n",
    "\n",
    "X = df[['YearsExperience']]  # using only one feature\n",
    "y = df['Salary']\n",
    "\n",
    "# Optional: scale features\n",
    "from sklearn.preprocessing import StandardScaler\n",
    "scaler = StandardScaler()\n",
    "X_scaled = scaler.fit_transform(X)\n",
    "\n",
    "# Train-test split\n",
    "X_train, X_test, y_train, y_test = train_test_split(X_scaled, y, test_size=0.2, random_state=42)\n",
    "\n",
    "# Define models\n",
    "models = {\n",
    "    \"Linear Regression\": LinearRegression(),\n",
    "    \"Random Forest\": RandomForestRegressor(),\n",
    "    \"XGBoost\": XGBRegressor()\n",
    "}\n",
    "\n",
    "# Train models\n",
    "trained_models = {}\n",
    "\n",
    "for name, model in models.items():\n",
    "    model.fit(X_train, y_train)\n",
    "    trained_models[name] = model\n",
    "    print(f\"✅ {name} trained successfully\")\n"
   ]
  },
  {
   "cell_type": "markdown",
   "id": "02c1b211-2e30-4dc3-aeaf-fe9ff44a8963",
   "metadata": {},
   "source": [
    "### ✅ Conclusion of Step 3: Model Building\n",
    "\n",
    "I successfully trained three different regression models:\n",
    "\n",
    "1. **Linear Regression**\n",
    "2. **Random Forest Regressor**\n",
    "3. **XGBoost Regressor**\n",
    "\n",
    "All models were trained on the scaled training data. These models will now be evaluated in the next step to compare their performance and select the best one.\n"
   ]
  },
  {
   "cell_type": "markdown",
   "id": "37ad6570-0636-4342-be09-a84dd0cf4e4e",
   "metadata": {},
   "source": [
    "## 📊 Step 4: Model Evaluation\n",
    "###  📊 Step 4: Model Evaluation— Explanation\n",
    "\n",
    "In this step, we evaluate the performance of each trained regression model using the following metrics:\n",
    "\n",
    "- **MAE**: Mean Absolute Error – average absolute difference between predicted and actual values\n",
    "- **MSE**: Mean Squared Error – average of squared differences\n",
    "- **RMSE**: Root Mean Squared Error – square root of MSE\n",
    "- **R² Score**: Indicates how well the model explains the variance in the data (closer to 1 is better)\n",
    "\n",
    "These metrics will help us compare and select the most accurate model.\n"
   ]
  },
  {
   "cell_type": "code",
   "execution_count": 12,
   "id": "e87940e5-db72-4ced-b0fb-76a1d5467225",
   "metadata": {},
   "outputs": [
    {
     "name": "stdout",
     "output_type": "stream",
     "text": [
      "📊 Model Evaluation Results:\n"
     ]
    },
    {
     "data": {
      "text/html": [
       "<div>\n",
       "<style scoped>\n",
       "    .dataframe tbody tr th:only-of-type {\n",
       "        vertical-align: middle;\n",
       "    }\n",
       "\n",
       "    .dataframe tbody tr th {\n",
       "        vertical-align: top;\n",
       "    }\n",
       "\n",
       "    .dataframe thead th {\n",
       "        text-align: right;\n",
       "    }\n",
       "</style>\n",
       "<table border=\"1\" class=\"dataframe\">\n",
       "  <thead>\n",
       "    <tr style=\"text-align: right;\">\n",
       "      <th></th>\n",
       "      <th>MAE</th>\n",
       "      <th>MSE</th>\n",
       "      <th>RMSE</th>\n",
       "      <th>R² Score</th>\n",
       "    </tr>\n",
       "  </thead>\n",
       "  <tbody>\n",
       "    <tr>\n",
       "      <th>Linear Regression</th>\n",
       "      <td>6286.453831</td>\n",
       "      <td>4.983010e+07</td>\n",
       "      <td>7059.043622</td>\n",
       "      <td>0.902446</td>\n",
       "    </tr>\n",
       "    <tr>\n",
       "      <th>Random Forest</th>\n",
       "      <td>6500.104444</td>\n",
       "      <td>5.434406e+07</td>\n",
       "      <td>7371.842094</td>\n",
       "      <td>0.893609</td>\n",
       "    </tr>\n",
       "    <tr>\n",
       "      <th>XGBoost</th>\n",
       "      <td>8912.313151</td>\n",
       "      <td>1.034046e+08</td>\n",
       "      <td>10168.803134</td>\n",
       "      <td>0.797562</td>\n",
       "    </tr>\n",
       "  </tbody>\n",
       "</table>\n",
       "</div>"
      ],
      "text/plain": [
       "                           MAE           MSE          RMSE  R² Score\n",
       "Linear Regression  6286.453831  4.983010e+07   7059.043622  0.902446\n",
       "Random Forest      6500.104444  5.434406e+07   7371.842094  0.893609\n",
       "XGBoost            8912.313151  1.034046e+08  10168.803134  0.797562"
      ]
     },
     "metadata": {},
     "output_type": "display_data"
    }
   ],
   "source": [
    "from sklearn.metrics import mean_absolute_error, mean_squared_error, r2_score\n",
    "import numpy as np\n",
    "\n",
    "# Dictionary to store model evaluation results\n",
    "results = {}\n",
    "\n",
    "# Loop through each trained model\n",
    "for name, model in trained_models.items():\n",
    "    y_pred = model.predict(X_test)  # Use the model to predict test set\n",
    "\n",
    "    mae = mean_absolute_error(y_test, y_pred)\n",
    "    mse = mean_squared_error(y_test, y_pred)\n",
    "    rmse = np.sqrt(mse)\n",
    "    r2 = r2_score(y_test, y_pred)\n",
    "\n",
    "    results[name] = {\n",
    "        \"MAE\": mae,\n",
    "        \"MSE\": mse,\n",
    "        \"RMSE\": rmse,\n",
    "        \"R² Score\": r2\n",
    "    }\n",
    "\n",
    "# Convert results to DataFrame\n",
    "results_df = pd.DataFrame(results).T\n",
    "print(\"📊 Model Evaluation Results:\")\n",
    "display(results_df)\n"
   ]
  },
  {
   "cell_type": "markdown",
   "id": "3ea25ec3-d8cf-442b-9f84-ed1047779755",
   "metadata": {},
   "source": [
    "| Model                 | MAE (Lower = Better) | RMSE (Lower = Better) | R² Score (Higher = Better) |\n",
    "| --------------------- | -------------------- | --------------------- | -------------------------- |\n",
    "| **Linear Regression** | ✅ **6286.45**        | ✅ **7059.04**         | ✅ **0.9024** (Highest)     |\n",
    "| Random Forest         | 6651.76              | 7521.74               | 0.8892                     |\n",
    "| XGBoost               | ❌ 8912.31            | ❌ 10168.80            | ❌ 0.7975                   |\n"
   ]
  },
  {
   "cell_type": "markdown",
   "id": "dd205d27-632c-4c15-a726-72369995f077",
   "metadata": {},
   "source": [
    "## 📘 What is “Interpretation” in Model Evaluation?\n",
    "### ✅ Interpretation means:\n",
    "### “Understanding and explaining what the results mean.”\n",
    "### 📊 I ran model evaluation and got metrics like:\n",
    "### MAE (Mean Absolute Error)\n",
    "\n",
    "### RMSE (Root Mean Squared Error)\n",
    "\n",
    "### R² Score (Accuracy of the model)\n",
    "### | Metric   | Meaning                                           | Interpretation                |\n",
    "### | -------- | ------------------------------------------------- | ----------------------------- |\n",
    "### | MAE      | How much the model is **wrong on average**        | Lower is better               |\n",
    "### | RMSE     | Like MAE, but gives more importance to big errors | Lower is better               |\n",
    "### | R² Score | How well the model **fits the data**              | Closer to 1 = better accuracy |\n",
    "\n",
    "\n",
    "\n",
    "\n",
    "\n",
    "## 🔍 Interpretation of Evaluation Results\n",
    "\n",
    "### After evaluating all three models, we found that **Linear Regression performed the best**. It had the **lowest MAE and RMSE**, which means it made the smallest prediction errors. It also had the **highest R² Score (0.90)**, meaning it accurately explains 90% of the variation in salary based on years of experience.\n",
    "\n",
    "### Therefore, we selected **Linear Regression** as the final model for deployment in the Streamlit app.\n"
   ]
  },
  {
   "cell_type": "code",
   "execution_count": 13,
   "id": "df516532-96cc-46e7-a59a-622f72b9beb0",
   "metadata": {},
   "outputs": [
    {
     "name": "stdout",
     "output_type": "stream",
     "text": [
      "✅ Model and Scaler saved successfully.\n"
     ]
    }
   ],
   "source": [
    "import joblib\n",
    "\n",
    "# Save the best-performing model (Linear Regression)\n",
    "joblib.dump(trained_models['Linear Regression'], 'best_model.pkl')\n",
    "\n",
    "# Save the StandardScaler used for input scaling\n",
    "joblib.dump(scaler, 'scaler.pkl')\n",
    "\n",
    "print(\"✅ Model and Scaler saved successfully.\")\n"
   ]
  },
  {
   "cell_type": "code",
   "execution_count": null,
   "id": "45858be5-2766-47bd-a426-0881193e23f8",
   "metadata": {},
   "outputs": [],
   "source": []
  }
 ],
 "metadata": {
  "kernelspec": {
   "display_name": "Python 3",
   "language": "python",
   "name": "python3"
  },
  "language_info": {
   "codemirror_mode": {
    "name": "ipython",
    "version": 3
   },
   "file_extension": ".py",
   "mimetype": "text/x-python",
   "name": "python",
   "nbconvert_exporter": "python",
   "pygments_lexer": "ipython3",
   "version": "3.10.0"
  }
 },
 "nbformat": 4,
 "nbformat_minor": 5
}
